{
  "cells": [
    {
      "cell_type": "markdown",
      "metadata": {},
      "source": [
        "# CIFAR-100 A/B/C/D/E Benchmark (Colab)\n",
        "\n",
        "This notebook runs CIFAR-100 experiments with param-matched A/B/C/D/E models using our MoP project.\n",
        "\n",
        "- A: Baseline ViT-style attention\n",
        "- B: MoP\n",
        "- C: Cross-View Mixer\n",
        "- D: Multi-Hop\n",
        "- E: Edgewise (per-edge CNN gates)\n",
        "\n",
        "It uses the full CIFAR-100 dataset via `torchvision` and saves results under `results/`.\n",
        "\n"
      ]
    },
    {
      "cell_type": "code",
      "execution_count": null,
      "metadata": {},
      "outputs": [],
      "source": [
        "# Setup: clone and install\n",
        "!pip -q install -U pip\n",
        "!if [ ! -d MoP ]; then git clone https://github.com/Eran-BA/MoP.git ; fi\n",
        "%cd MoP/\n",
        "!pip -q install -r requirements.txt\n",
        "\n",
        "import torch, torchvision\n",
        "print('Torch:', torch.__version__, 'CUDA available:', torch.cuda.is_available())\n",
        "\n"
      ]
    },
    {
      "cell_type": "code",
      "execution_count": null,
      "metadata": {},
      "outputs": [],
      "source": [
        "# Quick sanity: CIFAR-100 is available in torchvision, no manual download needed.\n",
        "from torchvision import datasets\n",
        "from torchvision import transforms\n",
        "\n",
        "transform = transforms.Compose([\n",
        "    transforms.RandomCrop(32, padding=4),\n",
        "    transforms.RandomHorizontalFlip(),\n",
        "    transforms.ToTensor(),\n",
        "])\n",
        "\n",
        "train = datasets.CIFAR100(root='/content/data', train=True, download=True, transform=transform)\n",
        "val   = datasets.CIFAR100(root='/content/data', train=False, download=True, transform=transforms.ToTensor())\n",
        "print('Train size:', len(train), 'Val size:', len(val))\n",
        "\n"
      ]
    },
    {
      "cell_type": "code",
      "execution_count": null,
      "metadata": {},
      "outputs": [],
      "source": [
        "# Run A/B/C/D/E at ~5M params (single seed)\n",
        "!python experiments/cifar100_ab5_param_budgets.py \\\n",
        "  --targets 5000000 --models A B C D E \\\n",
        "  --steps 20000 --eval_every 200 --batch 256 \\\n",
        "  --ew_views 5 --ew_use_k3 --ew_share_qkv \\\n",
        "  --xview_transpose --xview_t1 0.2 --xview_t2 0.2 --xview_enable_prior --xview_prior_weight 0.5 --xview_anchor_mode argmax_row_sum \\\n",
        "  --mh_hops 3 --mh_gate_chain 1.0\n",
        "\n"
      ]
    },
    {
      "cell_type": "code",
      "execution_count": null,
      "metadata": {},
      "outputs": [],
      "source": [
        "# Run A/B/C/D/E at ~50M params (single seed)\n",
        "!python experiments/cifar100_ab5_param_budgets.py \\\n",
        "  --targets 50000000 --models A B C D E \\\n",
        "  --steps 60000 --eval_every 500 --batch 256 \\\n",
        "  --lr_large 0.001 --warmup_frac 0.1 \\\n",
        "  --ew_views 5 --ew_use_k3 --ew_share_qkv \\\n",
        "  --xview_transpose --xview_t1 0.2 --xview_t2 0.2 --xview_enable_prior --xview_prior_weight 0.5 --xview_anchor_mode argmax_row_sum \\\n",
        "  --mh_hops 3 --mh_gate_chain 1.0\n",
        "\n"
      ]
    },
    {
      "cell_type": "code",
      "execution_count": null,
      "metadata": {},
      "outputs": [],
      "source": [
        "# Multi-seed tournament (5 seeds) at ~5M (plan_only example)\n",
        "!python experiments/ab5_tournament.py \\\n",
        "  --dataset cifar100 --targets 5000000 --seeds 0 1 2 3 4 \\\n",
        "  --plan_only --out_dir results/cifar100_tournament_plan\n",
        "\n"
      ]
    },
    {
      "cell_type": "code",
      "execution_count": null,
      "metadata": {},
      "outputs": [],
      "source": [
        "# Generate CIFAR-100 paper tables\n",
        "!python experiments/ab5_paper_benchmark.py --datasets cifar100\n",
        "!ls -la results/paper_benchmark\n",
        "\n"
      ]
    }
  ],
  "metadata": {
    "language_info": {
      "name": "python"
    }
  },
  "nbformat": 4,
  "nbformat_minor": 2
}
