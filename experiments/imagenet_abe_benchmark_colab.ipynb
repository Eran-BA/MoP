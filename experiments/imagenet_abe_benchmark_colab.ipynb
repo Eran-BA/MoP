{
  "cells": [
    {
      "cell_type": "markdown",
      "metadata": {},
      "source": [
        "# ImageNet A/B/E Benchmark (Colab)\n",
        "\n",
        "This notebook prepares ImageNet-1k (official route), then runs A/B/E param-matched benchmarks using paper-style training flags.\n",
        "\n",
        "Prerequisites:\n",
        "- You have access to ILSVRC2012 (ImageNet-1k) and placed these files in Google Drive:\n",
        "  - `ILSVRC2012_img_train.tar`\n",
        "  - `ILSVRC2012_img_val.tar`\n",
        "  - `ILSVRC2012_devkit_t12.tar`\n",
        "\n"
      ]
    },
    {
      "cell_type": "code",
      "execution_count": null,
      "metadata": {
        "vscode": {
          "languageId": "plaintext"
        }
      },
      "outputs": [],
      "source": [
        "# Clone and install\n",
        "pip -q install -U pip\n",
        "if [ ! -d MoP ]; then git clone https://github.com/Eran-BA/MoP.git ; fi\n",
        "cd MoP || exit 1\n",
        "pip -q install -r requirements.txt\n"
      ]
    },
    {
      "cell_type": "code",
      "execution_count": null,
      "metadata": {},
      "outputs": [],
      "source": [
        "# Mount Drive and configure paths\n",
        "from google.colab import drive\n",
        "import os\n",
        "\n",
        "drive.mount('/content/drive', force_remount=True)\n",
        "IMNET_SRC = '/content/drive/MyDrive/imagenet'  # folder holding the three tar files\n",
        "IMNET_ROOT = '/content/imagenet'               # extraction target\n",
        "print('Source:', IMNET_SRC, '\\nTarget:', IMNET_ROOT)\n",
        "os.makedirs(IMNET_ROOT, exist_ok=True)\n"
      ]
    },
    {
      "cell_type": "code",
      "execution_count": null,
      "metadata": {},
      "outputs": [],
      "source": [
        "# Verify tar files\n",
        "req = ['ILSVRC2012_img_train.tar','ILSVRC2012_img_val.tar','ILSVRC2012_devkit_t12.tar']\n",
        "missing = [f for f in req if not os.path.exists(os.path.join(IMNET_SRC,f))]\n",
        "assert not missing, f'Missing: {missing} in {IMNET_SRC}'\n"
      ]
    },
    {
      "cell_type": "code",
      "execution_count": null,
      "metadata": {},
      "outputs": [],
      "source": [
        "# Extract train/val/devkit\n",
        "echo \"Extracting train...\"\n",
        "mkdir -p /content/imagenet/train /content/imagenet/val /content/imagenet/devkit\n",
        "\n",
        "tar -xvf /content/drive/MyDrive/imagenet/ILSVRC2012_img_train.tar -C /content/imagenet/train\n",
        "cd /content/imagenet/train && find . -name \"*.tar\" -exec sh -c 'd=$(basename \"$1\" .tar); mkdir -p \"$d\"; tar -xf \"$1\" -C \"$d\"; rm \"$1\"' _ {} \\;\n",
        "\n",
        "cd /content/MoP || true\n",
        "tar -xvf /content/drive/MyDrive/imagenet/ILSVRC2012_img_val.tar -C /content/imagenet/val\n",
        "\n",
        "tar -xvf /content/drive/MyDrive/imagenet/ILSVRC2012_devkit_t12.tar -C /content/imagenet/devkit\n"
      ]
    },
    {
      "cell_type": "code",
      "execution_count": null,
      "metadata": {},
      "outputs": [],
      "source": [
        "# Organize validation set into class folders\n",
        "import os, shutil\n",
        "import scipy.io as sio\n",
        "\n",
        "devkit = '/content/imagenet/devkit/ILSVRC2012_devkit_t12'\n",
        "meta = sio.loadmat(os.path.join(devkit,'data','meta.mat'))['synsets']\n",
        "# Build mapping: ILSVRC2012_ID -> WNID\n",
        "id2wnid = {}\n",
        "for entry in meta:\n",
        "    ILSVRC2012_ID = int(entry['ILSVRC2012_ID'][0][0]) if entry['ILSVRC2012_ID'].size else 0\n",
        "    if ILSVRC2012_ID>0:\n",
        "        wnid = str(entry['WNID'][0])\n",
        "        id2wnid[ILSVRC2012_ID] = wnid\n",
        "\n",
        "with open(os.path.join(devkit,'data','ILSVRC2012_validation_ground_truth.txt'),'r') as f:\n",
        "    gt = [int(x.strip()) for x in f if x.strip()]\n",
        "\n",
        "val_dir = '/content/imagenet/val'\n",
        "imgs = sorted([x for x in os.listdir(val_dir) if x.lower().endswith(('.jpeg','.jpg'))])\n",
        "assert len(imgs)==len(gt), f'mismatch: {len(imgs)} images vs {len(gt)} labels'\n",
        "\n",
        "for img, cls_id in zip(imgs, gt):\n",
        "    wnid = id2wnid[cls_id]\n",
        "    dst = os.path.join(val_dir, wnid)\n",
        "    os.makedirs(dst, exist_ok=True)\n",
        "    shutil.move(os.path.join(val_dir,img), os.path.join(dst,img))\n"
      ]
    },
    {
      "cell_type": "code",
      "execution_count": null,
      "metadata": {},
      "outputs": [],
      "source": [
        "# Run A/B/E for ViT-B/16 (~86M). Reduce batch if OOM.\n",
        "export IMAGENET_ROOT=/content/imagenet\n",
        "python experiments/imagenet_ab_param_budgets.py \\\n",
        "  --data_root $IMAGENET_ROOT \\\n",
        "  --targets 86000000 \\\n",
        "  --models A B E \\\n",
        "  --img_size 224 --patch 16 \\\n",
        "  --steps 90000 --eval_every 1000 --batch 128 \\\n",
        "  --lr_large 0.001 --warmup_frac 0.1 --weight_decay 0.1 \\\n",
        "  --use_randaug --randaug_n 2 --randaug_m 9 --random_erasing 0.25 \\\n",
        "  --mixup_alpha 0.8 --cutmix_alpha 1.0 --mix_prob 0.5 \\\n",
        "  --drop_path 0.4 --grad_clip 1.0 --ema --ema_decay 0.9999 \\\n",
        "  --ew_views 5 --ew_use_k3 --ew_share_qkv --ew_mlp_ratio 4.0\n"
      ]
    },
    {
      "cell_type": "code",
      "execution_count": null,
      "metadata": {},
      "outputs": [],
      "source": [
        "# Optional: ViT-L/16 and ViT-H/14\n",
        "python experiments/imagenet_ab_param_budgets.py --data_root $IMAGENET_ROOT \\\n",
        "  --targets 307000000 --models A B E --img_size 224 --patch 16 --batch 128 \\\n",
        "  --lr_large 0.001 --warmup_frac 0.1 --weight_decay 0.1 --use_randaug --randaug_n 2 --randaug_m 9 \\\n",
        "  --random_erasing 0.25 --mixup_alpha 0.8 --cutmix_alpha 1.0 --mix_prob 0.5 \\\n",
        "  --drop_path 0.4 --grad_clip 1.0 --ema --ema_decay 0.9999 \\\n",
        "  --ew_views 5 --ew_use_k3 --ew_share_qkv --ew_mlp_ratio 4.0\n",
        "\n",
        "python experiments/imagenet_ab_param_budgets.py --data_root $IMAGENET_ROOT \\\n",
        "  --targets 632000000 --models A B E --img_size 224 --patch 14 --batch 128 \\\n",
        "  --lr_large 0.001 --warmup_frac 0.1 --weight_decay 0.1 --use_randaug --randaug_n 2 --randaug_m 9 \\\n",
        "  --random_erasing 0.25 --mixup_alpha 0.8 --cutmix_alpha 1.0 --mix_prob 0.5 \\\n",
        "  --drop_path 0.4 --grad_clip 1.0 --ema --ema_decay 0.9999 \\\n",
        "  --ew_views 5 --ew_use_k3 --ew_share_qkv --ew_mlp_ratio 4.0\n"
      ]
    },
    {
      "cell_type": "code",
      "execution_count": null,
      "metadata": {},
      "outputs": [],
      "source": [
        "# Generate paper tables\n",
        "python experiments/ab5_paper_benchmark.py\n",
        "ls -la results/paper_benchmark\n"
      ]
    }
  ],
  "metadata": {
    "language_info": {
      "name": "python"
    }
  },
  "nbformat": 4,
  "nbformat_minor": 2
}
