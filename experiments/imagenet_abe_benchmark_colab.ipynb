{
  "cells": [
    {
      "cell_type": "markdown",
      "metadata": {},
      "source": [
        "# ImageNet A/B/E Benchmark (Colab)\n",
        "\n",
        "This notebook prepares ImageNet-1k (official route), then runs A/B/E param-matched benchmarks using paper-style training flags.\n",
        "\n",
        "Prerequisites:\n",
        "- You have access to ILSVRC2012 (ImageNet-1k) and placed these files in Google Drive:\n",
        "  - `ILSVRC2012_img_train.tar`\n",
        "  - `ILSVRC2012_img_val.tar`\n",
        "  - `ILSVRC2012_devkit_t12.tar`\n",
        "\n"
      ]
    },
    {
      "cell_type": "code",
      "execution_count": null,
      "metadata": {
        "vscode": {
          "languageId": "plaintext"
        }
      },
      "outputs": [],
      "source": [
        "# Clone and install\n",
        "!pip -q install -U pip\n",
        "!if [ ! -d MoP ]; then git clone https://github.com/Eran-BA/MoP.git ; fi\n",
        "%cd MoP/\n",
        "!pip -q install -r requirements.txt\n"
      ]
    },
    {
      "cell_type": "code",
      "execution_count": null,
      "metadata": {},
      "outputs": [],
      "source": [
        "# Mount Drive and configure paths\n",
        "from google.colab import drive\n",
        "import os\n",
        "\n",
        "drive.mount('/content/drive', force_remount=True)\n",
        "IMNET_SRC = '/content/drive/MyDrive/imagenet'  # folder holding the three tar files\n",
        "IMNET_ROOT = '/content/imagenet'               # extraction target\n",
        "print('Source:', IMNET_SRC, '\\nTarget:', IMNET_ROOT)\n",
        "os.makedirs(IMNET_ROOT, exist_ok=True)\n"
      ]
    },
    {
      "cell_type": "code",
      "execution_count": null,
      "metadata": {},
      "outputs": [],
      "source": [
        "# Kaggle download (optional)\n",
        "# Installs Kaggle, configures credentials via kaggle.json upload, and downloads CLS-LOC files\n",
        "!pip -q install kaggle\n",
        "from google.colab import files\n",
        "import os\n",
        "\n",
        "print('Upload kaggle.json from your Kaggle Account page (https://www.kaggle.com/<you>/account)')\n",
        "uploaded = files.upload()  # choose kaggle.json\n",
        "if 'kaggle.json' in uploaded:\n",
        "    os.makedirs('/root/.kaggle', exist_ok=True)\n",
        "    with open('/root/.kaggle/kaggle.json','wb') as f:\n",
        "        f.write(uploaded['kaggle.json'])\n",
        "    os.chmod('/root/.kaggle/kaggle.json', 0o600)\n",
        "    print('kaggle.json installed at /root/.kaggle/kaggle.json')\n",
        "else:\n",
        "    print('kaggle.json not uploaded; if you already configured Kaggle, ignore this message.')\n",
        "\n",
        "# Download competition data to IMNET_SRC (defined above)\n",
        "os.makedirs(IMNET_SRC, exist_ok=True)\n",
        "!kaggle competitions download -c imagenet-object-localization-challenge -p \"$IMNET_SRC\"\n",
        "!unzip -q \"$IMNET_SRC\"/*.zip -d \"$IMNET_SRC\"\n",
        "print('Kaggle download complete at:', IMNET_SRC)\n",
        "\n",
        "# Alternative (env vars) — uncomment and set if you prefer environment variables\n",
        "# import os\n",
        "# os.environ['KAGGLE_USERNAME'] = 'YOUR_KAGGLE_USERNAME'\n",
        "# os.environ['KAGGLE_KEY'] = 'YOUR_KAGGLE_API_KEY'\n",
        "# !kaggle competitions download -c imagenet-object-localization-challenge -p \"$IMNET_SRC\"\n",
        "# !unzip -q \"$IMNET_SRC\"/*.zip -d \"$IMNET_SRC\"\n"
      ]
    },
    {
      "cell_type": "code",
      "execution_count": null,
      "metadata": {},
      "outputs": [],
      "source": [
        "# Verify ImageNet files (supports tarballs and Kaggle layout)\n",
        "print(\"Checking for ImageNet files...\")\n",
        "\n",
        "# Option A: Original tarball format\n",
        "tarball_files = ['ILSVRC2012_img_train.tar','ILSVRC2012_img_val.tar','ILSVRC2012_devkit_t12.tar']\n",
        "tarball_missing = [f for f in tarball_files if not os.path.exists(os.path.join(IMNET_SRC,f))]\n",
        "\n",
        "# Option B: Kaggle layout\n",
        "kaggle_train_dir = os.path.join(IMNET_SRC, \"ILSVRC\", \"Data\", \"CLS-LOC\", \"train\")\n",
        "kaggle_val_dir = os.path.join(IMNET_SRC, \"ILSVRC\", \"Data\", \"CLS-LOC\", \"val\")\n",
        "USE_KAGGLE_LAYOUT = os.path.isdir(kaggle_train_dir) and os.path.isdir(kaggle_val_dir)\n",
        "\n",
        "if not tarball_missing:\n",
        "    print(\"✅ Found tarball format (original ImageNet files)\")\n",
        "    USE_KAGGLE_LAYOUT = False\n",
        "elif USE_KAGGLE_LAYOUT:\n",
        "    print(\"✅ Found Kaggle layout\")\n",
        "else:\n",
        "    raise FileNotFoundError(\n",
        "        f\"Missing tarballs: {tarball_missing} and Kaggle layout not found under \"\n",
        "        f\"{os.path.join(IMNET_SRC,'ILSVRC','Data','CLS-LOC')}\"\n",
        "    )\n"
      ]
    },
    {
      "cell_type": "markdown",
      "metadata": {},
      "source": [
        "### Kaggle CLI reference\n",
        "If you prefer running the raw command, use:\n",
        "\n",
        "```bash\n",
        "kaggle competitions download -c imagenet-object-localization-challenge -p \"$IMNET_SRC\"\n",
        "unzip -q \"$IMNET_SRC\"/*.zip -d \"$IMNET_SRC\"\n",
        "```\n",
        "\n",
        "Note: ensure your `kaggle.json` is configured (`~/.kaggle/kaggle.json`) or upload it in the previous cell.\n"
      ]
    },
    {
      "cell_type": "code",
      "execution_count": null,
      "metadata": {},
      "outputs": [],
      "source": [
        "# Prepare data: use Kaggle layout if available, else extract tarballs\n",
        "import os, subprocess\n",
        "\n",
        "kaggle_train_dir = os.path.join(IMNET_SRC, \"ILSVRC\", \"Data\", \"CLS-LOC\", \"train\")\n",
        "kaggle_val_dir = os.path.join(IMNET_SRC, \"ILSVRC\", \"Data\", \"CLS-LOC\", \"val\")\n",
        "\n",
        "os.makedirs(os.path.join(IMNET_ROOT, 'train'), exist_ok=True)\n",
        "os.makedirs(os.path.join(IMNET_ROOT, 'val'), exist_ok=True)\n",
        "os.makedirs(os.path.join(IMNET_ROOT, 'devkit'), exist_ok=True)\n",
        "\n",
        "if 'USE_KAGGLE_LAYOUT' in globals() and USE_KAGGLE_LAYOUT:\n",
        "    print(\"Using Kaggle layout → copying to target...\")\n",
        "    if not os.listdir(os.path.join(IMNET_ROOT,'train')):\n",
        "        subprocess.run(['bash','-lc', f'cp -r \"{kaggle_train_dir}\"/* \"{IMNET_ROOT}/train/\"'], check=True)\n",
        "    if not os.listdir(os.path.join(IMNET_ROOT,'val')):\n",
        "        subprocess.run(['bash','-lc', f'cp -r \"{kaggle_val_dir}\"/* \"{IMNET_ROOT}/val/\"'], check=True)\n",
        "else:\n",
        "    print(\"Using tarballs → extracting...\")\n",
        "    train_tar = os.path.join(IMNET_SRC,'ILSVRC2012_img_train.tar')\n",
        "    val_tar = os.path.join(IMNET_SRC,'ILSVRC2012_img_val.tar')\n",
        "    devkit_tar = None\n",
        "    for cand in ['ILSVRC2012_devkit_t12.tar','ILSVRC2012_devkit_t12.tar.gz']:\n",
        "        p = os.path.join(IMNET_SRC, cand)\n",
        "        if os.path.exists(p):\n",
        "            devkit_tar = p; break\n",
        "    if not os.listdir(os.path.join(IMNET_ROOT,'train')):\n",
        "        subprocess.run(['bash','-lc', f'tar -xf \"{train_tar}\" -C \"{IMNET_ROOT}/train\"'], check=True)\n",
        "        subprocess.run(['bash','-lc', 'cd \"{}/train\" && find . -name \"*.tar\" -print0 | xargs -0 -I{{}} bash -lc '\\''d=$(basename \"{}\" .tar); mkdir -p \"$d\"; tar -xf \"{}\" -C \"$d\"; rm \"{}\"'\\'''.format(IMNET_ROOT)], check=True)\n",
        "    if not os.listdir(os.path.join(IMNET_ROOT,'val')):\n",
        "        subprocess.run(['bash','-lc', f'tar -xf \"{val_tar}\" -C \"{IMNET_ROOT}/val\"'], check=True)\n",
        "    if devkit_tar and not os.listdir(os.path.join(IMNET_ROOT,'devkit')):\n",
        "        subprocess.run(['bash','-lc', f'tar -xf \"{devkit_tar}\" -C \"{IMNET_ROOT}/devkit\"'], check=True)\n",
        "print(\"Done preparing data.\")\n"
      ]
    },
    {
      "cell_type": "code",
      "execution_count": null,
      "metadata": {},
      "outputs": [],
      "source": [
        "# Organize validation set into class folders\n",
        "import os, shutil\n",
        "import scipy.io as sio\n",
        "\n",
        "devkit = '/content/imagenet/devkit/ILSVRC2012_devkit_t12'\n",
        "meta = sio.loadmat(os.path.join(devkit,'data','meta.mat'))['synsets']\n",
        "# Build mapping: ILSVRC2012_ID -> WNID\n",
        "id2wnid = {}\n",
        "for entry in meta:\n",
        "    ILSVRC2012_ID = int(entry['ILSVRC2012_ID'][0][0]) if entry['ILSVRC2012_ID'].size else 0\n",
        "    if ILSVRC2012_ID>0:\n",
        "        wnid = str(entry['WNID'][0])\n",
        "        id2wnid[ILSVRC2012_ID] = wnid\n",
        "\n",
        "with open(os.path.join(devkit,'data','ILSVRC2012_validation_ground_truth.txt'),'r') as f:\n",
        "    gt = [int(x.strip()) for x in f if x.strip()]\n",
        "\n",
        "val_dir = '/content/imagenet/val'\n",
        "imgs = sorted([x for x in os.listdir(val_dir) if x.lower().endswith(('.jpeg','.jpg'))])\n",
        "assert len(imgs)==len(gt), f'mismatch: {len(imgs)} images vs {len(gt)} labels'\n",
        "\n",
        "for img, cls_id in zip(imgs, gt):\n",
        "    wnid = id2wnid[cls_id]\n",
        "    dst = os.path.join(val_dir, wnid)\n",
        "    os.makedirs(dst, exist_ok=True)\n",
        "    shutil.move(os.path.join(val_dir,img), os.path.join(dst,img))\n"
      ]
    },
    {
      "cell_type": "code",
      "execution_count": null,
      "metadata": {},
      "outputs": [],
      "source": [
        "# Run A/B/E for ViT-B/16 (~86M). Reduce batch if OOM.\n",
        "IMAGENET_ROOT = '/content/imagenet'\n",
        "!python experiments/imagenet_ab_param_budgets.py \\\n",
        "  --data_root $IMAGENET_ROOT \\\n",
        "  --targets 86000000 \\\n",
        "  --models A B E \\\n",
        "  --img_size 224 --patch 16 \\\n",
        "  --steps 90000 --eval_every 1000 --batch 128 \\\n",
        "  --lr_large 0.001 --warmup_frac 0.1 --weight_decay 0.1 \\\n",
        "  --use_randaug --randaug_n 2 --randaug_m 9 --random_erasing 0.25 \\\n",
        "  --mixup_alpha 0.8 --cutmix_alpha 1.0 --mix_prob 0.5 \\\n",
        "  --drop_path 0.4 --grad_clip 1.0 --ema --ema_decay 0.9999 \\\n",
        "  --ew_views 5 --ew_use_k3 --ew_share_qkv --ew_mlp_ratio 4.0\n"
      ]
    },
    {
      "cell_type": "code",
      "execution_count": null,
      "metadata": {},
      "outputs": [],
      "source": [
        "# Optional: ViT-L/16 and ViT-H/14\n",
        "!python experiments/imagenet_ab_param_budgets.py --data_root $IMAGENET_ROOT \\\n",
        "  --targets 307000000 --models A B E --img_size 224 --patch 16 --batch 128 \\\n",
        "  --lr_large 0.001 --warmup_frac 0.1 --weight_decay 0.1 --use_randaug --randaug_n 2 --randaug_m 9 \\\n",
        "  --random_erasing 0.25 --mixup_alpha 0.8 --cutmix_alpha 1.0 --mix_prob 0.5 \\\n",
        "  --drop_path 0.4 --grad_clip 1.0 --ema --ema_decay 0.9999 \\\n",
        "  --ew_views 5 --ew_use_k3 --ew_share_qkv --ew_mlp_ratio 4.0\n",
        "\n",
        "!python experiments/imagenet_ab_param_budgets.py --data_root $IMAGENET_ROOT \\\n",
        "  --targets 632000000 --models A B E --img_size 224 --patch 14 --batch 128 \\\n",
        "  --lr_large 0.001 --warmup_frac 0.1 --weight_decay 0.1 --use_randaug --randaug_n 2 --randaug_m 9 \\\n",
        "  --random_erasing 0.25 --mixup_alpha 0.8 --cutmix_alpha 1.0 --mix_prob 0.5 \\\n",
        "  --drop_path 0.4 --grad_clip 1.0 --ema --ema_decay 0.9999 \\\n",
        "  --ew_views 5 --ew_use_k3 --ew_share_qkv --ew_mlp_ratio 4.0\n"
      ]
    },
    {
      "cell_type": "code",
      "execution_count": null,
      "metadata": {},
      "outputs": [],
      "source": [
        "# Generate paper tables\n",
        "!python experiments/ab5_paper_benchmark.py\n",
        "!ls -la results/paper_benchmark\n"
      ]
    }
  ],
  "metadata": {
    "language_info": {
      "name": "python"
    }
  },
  "nbformat": 4,
  "nbformat_minor": 2
}
